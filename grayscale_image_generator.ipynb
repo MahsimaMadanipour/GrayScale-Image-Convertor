{
 "cells": [
  {
   "cell_type": "markdown",
   "id": "065cba79",
   "metadata": {},
   "source": []
  },
  {
   "cell_type": "code",
   "execution_count": null,
   "id": "a7b23c57",
   "metadata": {},
   "outputs": [],
   "source": [
    "import numpy as np\n",
    "import matplotlib.pyplot as plt\n",
    "import matplotlib.image as img\n",
    "import cv2"
   ]
  },
  {
   "cell_type": "markdown",
   "id": "70e7401d",
   "metadata": {},
   "source": []
  },
  {
   "cell_type": "code",
   "execution_count": null,
   "id": "d24f750b",
   "metadata": {},
   "outputs": [],
   "source": [
    "def red_channel_method(red, green, blue):\n",
    "    r = g = b = red\n",
    "    grayscale_image = cv2.merge([b, g, r])\n",
    "    return grayscale_image"
   ]
  },
  {
   "cell_type": "markdown",
   "id": "6a624d9f",
   "metadata": {},
   "source": []
  },
  {
   "cell_type": "code",
   "execution_count": null,
   "id": "02418e23",
   "metadata": {},
   "outputs": [],
   "source": [
    "def green_channel_method(red, green, blue):\n",
    "    r = g = b = green\n",
    "    grayscale_image = cv2.merge([b, g, r])\n",
    "    return grayscale_image"
   ]
  },
  {
   "cell_type": "markdown",
   "id": "59ffb282",
   "metadata": {},
   "source": []
  },
  {
   "cell_type": "code",
   "execution_count": null,
   "id": "b07c812b",
   "metadata": {},
   "outputs": [],
   "source": [
    "def blue_channel_method(red, green, blue):\n",
    "    r = g = b = blue\n",
    "    grayscale_image = cv2.merge([b, g, r])\n",
    "    return grayscale_image"
   ]
  },
  {
   "cell_type": "markdown",
   "id": "4a3ba7ca",
   "metadata": {},
   "source": []
  },
  {
   "cell_type": "code",
   "execution_count": null,
   "id": "cf134ba4",
   "metadata": {},
   "outputs": [],
   "source": [
    "def max_rgb_method(red, green, blue):\n",
    "    r = g = b = np.maximum(np.maximum(red, green), blue)\n",
    "    grayscale_image = cv2.merge([b, g, r])\n",
    "    return grayscale_image"
   ]
  },
  {
   "cell_type": "markdown",
   "id": "d6df0d70",
   "metadata": {},
   "source": []
  },
  {
   "cell_type": "code",
   "execution_count": null,
   "id": "3099deb1",
   "metadata": {},
   "outputs": [],
   "source": [
    "def min_rgb_method(red, green, blue):\n",
    "    r = g = b = np.minimum(np.minimum(red, green), blue)\n",
    "    grayscale_image = cv2.merge([b, g, r])\n",
    "    return grayscale_image"
   ]
  },
  {
   "cell_type": "markdown",
   "id": "c11e8333",
   "metadata": {},
   "source": []
  },
  {
   "cell_type": "code",
   "execution_count": null,
   "id": "7150617e",
   "metadata": {},
   "outputs": [],
   "source": [
    "def lightness_method(red, green, blue):\n",
    "    max_rgb = np.maximum(np.maximum(red, green), blue)\n",
    "    min_rgb = np.minimum(np.minimum(red, green), blue)\n",
    "    r = g = b = (max_rgb + min_rgb) // 2\n",
    "    grayscale_image = cv2.merge([b, g, r])\n",
    "    return grayscale_image"
   ]
  },
  {
   "cell_type": "markdown",
   "id": "0f987315",
   "metadata": {},
   "source": []
  },
  {
   "cell_type": "code",
   "execution_count": null,
   "id": "941a76a8",
   "metadata": {},
   "outputs": [],
   "source": [
    "def average_method(red, green, blue):\n",
    "    r = g = b = (red + green + blue) // 3\n",
    "    grayscale_image = cv2.merge([b, g, r])\n",
    "    return grayscale_image"
   ]
  },
  {
   "cell_type": "markdown",
   "id": "13c76d55",
   "metadata": {},
   "source": []
  },
  {
   "cell_type": "code",
   "execution_count": null,
   "id": "577bf822",
   "metadata": {},
   "outputs": [],
   "source": [
    "def luminosity_method(red, green, blue):\n",
    "    r_weight = 0.3 # 0.3 or 0.299 or 0.2126\n",
    "    g_weight = 0.59 # 0.59 or 0.587 or 0.7152\n",
    "    b_weight = 0.11 # 0.11 or 0.114 or 0.0722\n",
    "    gamma = 1.04 #\n",
    "    r = g = b = ((red * r_weight ** gamma) + (green * g_weight ** gamma) + (blue * b_weight ** gamma)).astype(int)\n",
    "    grayscale_image = cv2.merge([b, g, r])\n",
    "    return grayscale_image"
   ]
  },
  {
   "cell_type": "markdown",
   "id": "d7ebd760",
   "metadata": {},
   "source": []
  },
  {
   "cell_type": "code",
   "execution_count": null,
   "id": "b272086c",
   "metadata": {},
   "outputs": [],
   "source": [
    "colored_image = img.imread(\"images/1.jpg\")\n",
    "b_channel, g_channel, r_channel = cv2.split(colored_image)\n",
    "\n",
    "plt.figure(figsize=(12, 12))\n",
    "# plt.subplot(2, 2, 1)\n",
    "plt.imshow(colored_image)\n",
    "plt.title(\"Original Image\")\n",
    "plt.axis('off')\n",
    "plt.show()\n",
    "plt.imshow(red_channel_method(r_channel, g_channel, b_channel))\n",
    "plt.show()\n",
    "plt.imshow(green_channel_method(r_channel, g_channel, b_channel))\n",
    "plt.show()\n",
    "plt.imshow(blue_channel_method(r_channel, g_channel, b_channel))\n",
    "plt.show()\n",
    "plt.imshow(max_rgb_method(r_channel, g_channel, b_channel))\n",
    "plt.show()\n",
    "plt.imshow(min_rgb_method(r_channel, g_channel, b_channel))\n",
    "plt.show()\n",
    "plt.imshow(lightness_method(r_channel, g_channel, b_channel))\n",
    "plt.show()\n",
    "plt.imshow(average_method(r_channel, g_channel, b_channel))\n",
    "plt.show()\n",
    "plt.imshow(luminosity_method(r_channel, g_channel, b_channel))\n",
    "plt.show()\n"
   ]
  }
 ],
 "metadata": {
  "kernelspec": {
   "display_name": "Python 3 (ipykernel)",
   "language": "python",
   "name": "python3"
  },
  "language_info": {
   "codemirror_mode": {
    "name": "ipython",
    "version": 3
   },
   "file_extension": ".py",
   "mimetype": "text/x-python",
   "name": "python",
   "nbconvert_exporter": "python",
   "pygments_lexer": "ipython3",
   "version": "3.9.7"
  }
 },
 "nbformat": 4,
 "nbformat_minor": 5
}
